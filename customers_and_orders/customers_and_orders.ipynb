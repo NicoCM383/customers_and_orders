{
  "cells": [
    {
      "cell_type": "markdown",
      "metadata": {
        "id": "piiX_CRNFYUi"
      },
      "source": [
        "# Technical Challenge ! Custiomers and Orders - The lifeblood of any business!\n",
        "\n",
        "This notebook depends on two data files: customers.scv and orders.csv. These files are hosted in the cloud (or Github), so for simplicity, we are providing you with the code to download and save the two files in a folder called 'sample_data' which lives within this notebook session (not on your local computer nor Google Drive).\n",
        "\n",
        "![sample_data folder in notebook session](https://raw.githubusercontent.com/anyoneai/notebooks/main/customers_and_orders/images/sample_data_folder.png)\n",
        "\n",
        "Please execute the first code snippet before moving to the rest of the exercise as this code will import the data from the files for you to be able to execute the rest of the exercise.\n",
        "\n",
        "Remember as we said in the previous lecture, you have to save this notebook into your Google Drive by going to menu File/Save a Copy In Drive, or clicking in the button \"Copy to Drive\". This way, you will not lose any work you've done and the file will persist with your latest changes in your Google Drive. Also we recommend you to rename your .ipynb in your Google Drive, so you can easily find it in the future."
      ]
    },
    {
      "cell_type": "code",
      "execution_count": 1,
      "metadata": {
        "colab": {
          "base_uri": "https://localhost:8080/"
        },
        "id": "MWpVO242FQHC",
        "outputId": "e43058f3-955a-43af-f793-8db5e984a8dd"
      },
      "outputs": [
        {
          "output_type": "stream",
          "name": "stdout",
          "text": [
            "Customers and orders CSV files have been added './sample_data'\n"
          ]
        }
      ],
      "source": [
        "import requests\n",
        "\n",
        "def import_data_files():\n",
        "  r = requests.get('https://raw.githubusercontent.com/anyoneai/notebooks/main/customers_and_orders/data/customers.csv')\n",
        "  with open('./sample_data/customers.csv', 'wb') as f:\n",
        "    f.write(r.content)\n",
        "\n",
        "  r = requests.get('https://raw.githubusercontent.com/anyoneai/notebooks/main/customers_and_orders/data/orders.csv')\n",
        "  with open('./sample_data/orders.csv', 'wb') as f:\n",
        "    f.write(r.content)\n",
        "\n",
        "import_data_files()\n",
        "print(\"Customers and orders CSV files have been added './sample_data'\")"
      ]
    },
    {
      "cell_type": "markdown",
      "metadata": {
        "id": "JQAduY-RWKyB"
      },
      "source": [
        "# Exercise 1: Processing Customers data (difficulty medium)\n",
        "\n",
        "The sample customer data in 'customers.csv' file has just 5 columns: CustomerId, First Name, Last Name, City and State\n",
        "\n",
        "![Data sample](https://raw.githubusercontent.com/anyoneai/notebooks/main/customers_and_orders/images/customers.png)\n",
        "\n",
        "We strongly recommend that you complete from the [Prep Course: Intro to Python](https://colab.research.google.com/github/anyoneai/notebooks/blob/main/python3_crash_course.ipynb) the following section:\n",
        "- Section 7: File I/O (to understand how to read CSV file)\n",
        "- Section 6: For Loop (to navigate the contents of the CSV file)\n",
        "- Section 5: Tuples, Lists, and Dictionaries (to manipulate the data of the CSV file)\n",
        "\n",
        "With this, we hope you can complete this exercise successfully. Although if you want to solve this with libraries or any other way, you are welcome to do it your way.\n",
        "\n",
        "*Hint:* We advise you to take a look at the data before you start.\n",
        "**if you want to manually take a look at the data before you start, please see the content of the data [here](https://github.com/anyoneai/notebooks/blob/main/customers_and_orders/data/customers.csv).\n",
        "\n",
        "*Hint*: There are many ways to do this exercise you can do your own, although here's some help. You can solve this exercise reading and parsing CSV files, structuring data into dictionaries, and using for loops to navigate the contents\n",
        "\n",
        "*Hint*: Also, keep in mind that data might not be clean and you might have to figure out how to deal with that data from the code, without having to modify the data source.\n",
        "\n",
        "Below are the 5 questions you'll have to answer to pass the evaluation:"
      ]
    },
    {
      "cell_type": "markdown",
      "metadata": {
        "id": "kJq7S8sBfbOW"
      },
      "source": [
        "**Question 1:** How many customers are in the file?\n",
        "(as help, we have added some comments and starter code to help you structure the solution)"
      ]
    },
    {
      "cell_type": "code",
      "execution_count": 2,
      "metadata": {
        "colab": {
          "base_uri": "https://localhost:8080/"
        },
        "id": "oMnUFBFb2RUb",
        "outputId": "e331aa23-8230-4792-ed8a-f52af6366f36"
      },
      "outputs": [
        {
          "output_type": "stream",
          "name": "stdout",
          "text": [
            "All done!\n"
          ]
        }
      ],
      "source": [
        "from os.path import exists\n",
        "import csv\n",
        "\n",
        "# check if file can be found and open the file\n",
        "datafile = \"./sample_data/customers.csv\"\n",
        "if not exists(datafile):\n",
        "  raise SystemExit(\"You should run the first code cell and download the dataset files!\")\n",
        "\n",
        "# customers file is in the sample_data folder and can be opened.\n",
        "# Using csv reader is one way of dealing with the file\n",
        "# but it's up to you how you want to proceed\n",
        "with open(datafile, 'r') as fl:\n",
        "  csvreader = csv.reader(fl, delimiter=',')\n",
        "\n",
        "  # loop through the rows and count etc. THE REST IS UP TO YOU!\n",
        "\n",
        "\n",
        "print(\"All done!\")"
      ]
    },
    {
      "cell_type": "code",
      "source": [
        "import pandas as pd\n",
        "\n",
        "df = pd.read_csv(\"./sample_data/customers.csv\")\n",
        "num_customers = len(df)\n",
        "\n",
        "print(f\"Total number of customers: {num_customers}\")"
      ],
      "metadata": {
        "id": "2JNlivm7LRb6",
        "outputId": "a26e2477-01df-42aa-e6c2-1e847eb14919",
        "colab": {
          "base_uri": "https://localhost:8080/"
        }
      },
      "execution_count": 8,
      "outputs": [
        {
          "output_type": "stream",
          "name": "stdout",
          "text": [
            "Total number of customers: 602\n"
          ]
        }
      ]
    },
    {
      "cell_type": "markdown",
      "metadata": {
        "id": "uffBnNgz_570"
      },
      "source": [
        "**Question 2:** In how many different states do the customers live in?"
      ]
    },
    {
      "cell_type": "code",
      "execution_count": 9,
      "metadata": {
        "id": "Bi_yid0sMe3-",
        "outputId": "752f0911-683f-4cf6-9f95-65471fb6760f",
        "colab": {
          "base_uri": "https://localhost:8080/"
        }
      },
      "outputs": [
        {
          "output_type": "stream",
          "name": "stdout",
          "text": [
            "Customers live in 16 different state(s).\n"
          ]
        }
      ],
      "source": [
        "import pandas as pd\n",
        "\n",
        "df = pd.read_csv(\"./sample_data/customers.csv\")\n",
        "unique_states = df[\"State\"].nunique()\n",
        "\n",
        "print(f\"Customers live in {unique_states} different state(s).\")"
      ]
    },
    {
      "cell_type": "markdown",
      "metadata": {
        "id": "DC59SZYiMfNY"
      },
      "source": [
        "**Question 3** What is the state with most customers?"
      ]
    },
    {
      "cell_type": "code",
      "execution_count": 13,
      "metadata": {
        "id": "tfGU3w-OMhA9",
        "outputId": "ad11d1bc-e9a6-4d41-e087-14608f3f1534",
        "colab": {
          "base_uri": "https://localhost:8080/"
        }
      },
      "outputs": [
        {
          "output_type": "stream",
          "name": "stdout",
          "text": [
            "The state with the most customers is CA with 562 customers.\n"
          ]
        }
      ],
      "source": [
        "import pandas as pd\n",
        "\n",
        "df = pd.read_csv(\"./sample_data/customers.csv\")\n",
        "state_counts = df[\"State\"].value_counts()\n",
        "most_state = state_counts.idxmax()\n",
        "most_count = state_counts.max()\n",
        "\n",
        "print(f\"The state with the most customers is {most_state} with {most_count} customers.\")\n"
      ]
    },
    {
      "cell_type": "markdown",
      "metadata": {
        "id": "7mcM6cUAMhLB"
      },
      "source": [
        "**Question 4** What is the state with the least customers?"
      ]
    },
    {
      "cell_type": "code",
      "execution_count": 11,
      "metadata": {
        "id": "8T0Ka2RqMi3P",
        "outputId": "54e66748-8b56-483c-9cc9-ba30a1987f4f",
        "colab": {
          "base_uri": "https://localhost:8080/"
        }
      },
      "outputs": [
        {
          "output_type": "stream",
          "name": "stdout",
          "text": [
            "The state with the least customers is WA with 1 customer(s).\n"
          ]
        }
      ],
      "source": [
        "import pandas as pd\n",
        "\n",
        "df = pd.read_csv(\"./sample_data/customers.csv\")\n",
        "state_counts = df[\"State\"].value_counts()\n",
        "least_state = state_counts.idxmin()\n",
        "least_count = state_counts.min()\n",
        "\n",
        "print(f\"The state with the least customers is {least_state} with {least_count} customer(s).\")"
      ]
    },
    {
      "cell_type": "markdown",
      "metadata": {
        "id": "h6fIy7hXHF6A"
      },
      "source": [
        "**Question 5:** What is the most common last name?"
      ]
    },
    {
      "cell_type": "code",
      "execution_count": 12,
      "metadata": {
        "id": "k8M1DmA75Km7",
        "outputId": "0e8f2269-817b-4ff3-b772-487add72e9e4",
        "colab": {
          "base_uri": "https://localhost:8080/"
        }
      },
      "outputs": [
        {
          "output_type": "stream",
          "name": "stdout",
          "text": [
            "The most common last name is Smith, appearing 8 time(s).\n"
          ]
        }
      ],
      "source": [
        "import pandas as pd\n",
        "\n",
        "df = pd.read_csv(\"./sample_data/customers.csv\")\n",
        "most_common_lastname = df[\"LastName\"].value_counts().idxmax()\n",
        "count = df[\"LastName\"].value_counts().max()\n",
        "\n",
        "print(f\"The most common last name is {most_common_lastname}, appearing {count} time(s).\")"
      ]
    },
    {
      "cell_type": "markdown",
      "metadata": {
        "id": "YPRma1t9NoFk"
      },
      "source": [
        "# Exercise 2: Processing Orders data (difficulty high)\n",
        "\n",
        "The second sample files contains orders placed by customers from the first file. Be careful, this file has many rows and you most likely should not print the contents of the whole file.\n",
        "\n",
        "The file contains the following columns: CustomerID, OrderID, Date, OrderTotal, ProductName, Price\n",
        "\n",
        "![Data sample](https://raw.githubusercontent.com/anyoneai/notebooks/main/customers_and_orders/images/orders.png)\n",
        "\n",
        "*Hint:* We advise you to take a look at the data before you start.\n",
        "**if you want to manually take a look at the data before you start, please see the content of the data [here](https://raw.githubusercontent.com/anyoneai/notebooks/main/customers_and_orders/data/orders.csv).\n",
        "\n",
        "*Hint*: There are many ways to do this exercise you can do your own, although here's some help. You can solve this exercise reading and parsing CSV files, structuring data into dictionaries, and using for loops to navigate the contents\n",
        "\n",
        "*Hint*: Also, the data is not clean and you will have to figure out how to deal with that data from the code, without having to modify the data source.\n",
        "\n",
        "\n",
        "\n",
        "**Question #1:** How many unique orders are in the orders.csv file?\n",
        "\n",
        "**Question #2:** What is the average number of items per order (rounded to two decimal places)?\n",
        "\n",
        "**Question #3:** What is the highest number of items per order?\n",
        "\n",
        "**Question #4:** What is the number of orders placed in October 2021?\n",
        "\n",
        "**Question #5:** Which customer spent the most amount of money in 2021?\n",
        "\n",
        "**Question #6:** Historically, what is the best month for sales?\n",
        "\n",
        "Once you get your answers, remember to go back to the course and introduce them in the multiple choice quiz"
      ]
    },
    {
      "cell_type": "code",
      "source": [
        "from os.path import exists\n",
        "import csv\n",
        "\n",
        "# check if file can be found and open the file\n",
        "datafile = \"./sample_data/orders.csv\"\n",
        "if not exists(datafile):\n",
        "  raise SystemExit(\"You should run the first code cell and download the dataset files!\")\n",
        "\n",
        "# customers file is in the sample_data folder and can be opened.\n",
        "# Using csv reader is one way of dealing with the file\n",
        "# but it's up to you how you want to proceed\n",
        "with open(datafile, 'r') as fl:\n",
        "  csvreader = csv.reader(fl, delimiter=',')\n",
        "\n",
        "  # loop through the rows and count etc. THE REST IS UP TO YOU!\n",
        "\n",
        "\n",
        "print(\"All done!\")"
      ],
      "metadata": {
        "colab": {
          "base_uri": "https://localhost:8080/"
        },
        "id": "AnUjRAnYW3gu",
        "outputId": "3c2c6a3e-fe27-4bf3-e0e3-073c98670d18"
      },
      "execution_count": 14,
      "outputs": [
        {
          "output_type": "stream",
          "name": "stdout",
          "text": [
            "All done!\n"
          ]
        }
      ]
    },
    {
      "cell_type": "markdown",
      "source": [
        "Question #1: How many unique orders are in the orders.csv file?"
      ],
      "metadata": {
        "id": "8rPRpInbXGBd"
      }
    },
    {
      "cell_type": "code",
      "source": [
        "import pandas as pd\n",
        "\n",
        "df = pd.read_csv(\"./sample_data/orders.csv\")\n",
        "unique_orders = df[\"OrderID\"].nunique()\n",
        "\n",
        "print(f\"Total number of unique orders: {unique_orders}\")\n"
      ],
      "metadata": {
        "id": "P9AmADQpXI4d",
        "outputId": "1a8ea69a-f362-4bd7-a726-99742b0da204",
        "colab": {
          "base_uri": "https://localhost:8080/"
        }
      },
      "execution_count": 15,
      "outputs": [
        {
          "output_type": "stream",
          "name": "stdout",
          "text": [
            "Total number of unique orders: 16672\n"
          ]
        }
      ]
    },
    {
      "cell_type": "markdown",
      "source": [
        "Question #2: What is the average number of items per order (rounded to two decimal places)?"
      ],
      "metadata": {
        "id": "IlOPTW2XbeIg"
      }
    },
    {
      "cell_type": "code",
      "source": [
        "import pandas as pd\n",
        "\n",
        "df = pd.read_csv(\"./sample_data/orders.csv\")\n",
        "items_per_order = df.groupby(\"OrderID\").size()\n",
        "average_items = round(items_per_order.mean(), 2)\n",
        "\n",
        "print(f\"Average number of items per order: {average_items}\")\n"
      ],
      "metadata": {
        "id": "0fDJ7H-ebhRw",
        "outputId": "372e85ae-07e2-4681-fe26-af620a49e4c0",
        "colab": {
          "base_uri": "https://localhost:8080/"
        }
      },
      "execution_count": 16,
      "outputs": [
        {
          "output_type": "stream",
          "name": "stdout",
          "text": [
            "Average number of items per order: 1.76\n"
          ]
        }
      ]
    },
    {
      "cell_type": "markdown",
      "source": [
        "Question #3: What is the highest number of items per order?"
      ],
      "metadata": {
        "id": "AJkCSjbsb028"
      }
    },
    {
      "cell_type": "code",
      "source": [
        "import pandas as pd\n",
        "\n",
        "df = pd.read_csv(\"./sample_data/orders.csv\")\n",
        "items_per_order = df.groupby(\"OrderID\").size()\n",
        "max_items = items_per_order.max()\n",
        "\n",
        "print(f\"Highest number of items in a single order: {max_items}\")\n"
      ],
      "metadata": {
        "id": "zJxeVpH-b12i",
        "outputId": "e8479a0c-4a73-4f0d-e308-c4710037b323",
        "colab": {
          "base_uri": "https://localhost:8080/"
        }
      },
      "execution_count": 18,
      "outputs": [
        {
          "output_type": "stream",
          "name": "stdout",
          "text": [
            "Highest number of items in a single order: 35\n"
          ]
        }
      ]
    },
    {
      "cell_type": "markdown",
      "source": [
        "Question #4: What is the number of orders placed in October 2021?"
      ],
      "metadata": {
        "id": "auI0Z2nQcJ1F"
      }
    },
    {
      "cell_type": "code",
      "source": [
        "import pandas as pd\n",
        "\n",
        "df = pd.read_csv(\"./sample_data/orders.csv\")\n",
        "df[\"Date\"] = pd.to_datetime(df[\"Date\"])\n",
        "\n",
        "october_orders = df[df[\"Date\"].dt.to_period(\"M\") == \"2021-10\"][\"OrderID\"].nunique()\n",
        "\n",
        "print(f\"Number of orders placed in October 2021: {october_orders}\")\n"
      ],
      "metadata": {
        "id": "NG5Fk0YhcM2A",
        "outputId": "feb207c3-79ad-42c5-c29f-fa7f78d532e6",
        "colab": {
          "base_uri": "https://localhost:8080/"
        }
      },
      "execution_count": 19,
      "outputs": [
        {
          "output_type": "stream",
          "name": "stdout",
          "text": [
            "Number of orders placed in October 2021: 267\n"
          ]
        }
      ]
    },
    {
      "cell_type": "markdown",
      "source": [
        "Question #5: Which customer spent the most amount of money in 2021?"
      ],
      "metadata": {
        "id": "kpuqJ2umcVb-"
      }
    },
    {
      "cell_type": "code",
      "source": [
        "import pandas as pd\n",
        "\n",
        "df = pd.read_csv(\"./sample_data/orders.csv\")\n",
        "df[\"Date\"] = pd.to_datetime(df[\"Date\"])\n",
        "df_2021 = df[df[\"Date\"].dt.year == 2021]\n",
        "\n",
        "total_spent = df_2021.groupby(\"CustomerID\")[\"Price\"].sum()\n",
        "top_customer = total_spent.idxmax()\n",
        "top_amount = total_spent.max()\n",
        "\n",
        "print(f\"The customer who spent the most in 2021 is {top_customer} with a total of {top_amount:.2f}\")\n"
      ],
      "metadata": {
        "id": "gWLoALHFcWeI",
        "outputId": "d675bf21-f3a9-47b2-cc9e-b61c89dc0ce7",
        "colab": {
          "base_uri": "https://localhost:8080/"
        }
      },
      "execution_count": 20,
      "outputs": [
        {
          "output_type": "stream",
          "name": "stdout",
          "text": [
            "The customer who spent the most in 2021 is 5172443 with a total of 7675.00\n"
          ]
        }
      ]
    },
    {
      "cell_type": "markdown",
      "source": [
        "Question #6: Historically, what is the best month for sales?"
      ],
      "metadata": {
        "id": "f2MLRIsLcZ7g"
      }
    },
    {
      "cell_type": "code",
      "source": [
        "import pandas as pd\n",
        "\n",
        "df = pd.read_csv(\"./sample_data/orders.csv\")\n",
        "df[\"Date\"] = pd.to_datetime(df[\"Date\"])\n",
        "df[\"Month\"] = df[\"Date\"].dt.to_period(\"M\")\n",
        "\n",
        "monthly_sales = df.groupby(\"Month\")[\"Price\"].sum()\n",
        "best_month = monthly_sales.idxmax()\n",
        "best_amount = monthly_sales.max()\n",
        "\n",
        "print(f\"The best month for sales was {best_month} with total sales of {best_amount:.2f}\")\n"
      ],
      "metadata": {
        "id": "dfUO1UN2chew",
        "outputId": "ea015ffa-5f86-4933-a719-d9c914af2feb",
        "colab": {
          "base_uri": "https://localhost:8080/"
        }
      },
      "execution_count": 21,
      "outputs": [
        {
          "output_type": "stream",
          "name": "stdout",
          "text": [
            "The best month for sales was 2022-01 with total sales of 78605.00\n"
          ]
        }
      ]
    },
    {
      "cell_type": "markdown",
      "metadata": {
        "id": "ie0JW4FAk6Os"
      },
      "source": [
        "# Finished!\n",
        "\n",
        "Hope this was not too difficult and slicing and dicing the datasets was some fun. Now head on back to the course and provide the answers to the questions from this exercise."
      ]
    }
  ],
  "metadata": {
    "colab": {
      "name": "customers_and_orders.ipynb",
      "provenance": []
    },
    "kernelspec": {
      "display_name": "Python 3 (ipykernel)",
      "language": "python",
      "name": "python3"
    },
    "language_info": {
      "codemirror_mode": {
        "name": "ipython",
        "version": 3
      },
      "file_extension": ".py",
      "mimetype": "text/x-python",
      "name": "python",
      "nbconvert_exporter": "python",
      "pygments_lexer": "ipython3",
      "version": "3.9.9"
    }
  },
  "nbformat": 4,
  "nbformat_minor": 0
}